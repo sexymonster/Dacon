{
  "nbformat": 4,
  "nbformat_minor": 0,
  "metadata": {
    "colab": {
      "name": "dacon_FIFAvalue.ipynb",
      "provenance": [],
      "collapsed_sections": [],
      "authorship_tag": "ABX9TyMASt7tW83GGt9o7v+Nw8he"
    },
    "kernelspec": {
      "name": "python3",
      "display_name": "Python 3"
    },
    "language_info": {
      "name": "python"
    },
    "gpuClass": "standard"
  },
  "cells": [
    {
      "cell_type": "markdown",
      "source": [
        "#1.인트로"
      ],
      "metadata": {
        "id": "_LUEBN9CjoTi"
      }
    },
    {
      "cell_type": "markdown",
      "source": [
        "##1.1 문제 유형 및 데이터 정리"
      ],
      "metadata": {
        "id": "6AjakQphkrV8"
      }
    },
    {
      "cell_type": "markdown",
      "source": [
        "https://dacon.io/competitions/open/235538/overview/description\n",
        "\n",
        "주어진 데이터를 바탕으로 선수 이적료를 예측 해보세요!\n",
        "\n",
        "1. FIFA_train.csv / FIFA_test.csv\\\n",
        " id : 선수 고유의 아이디\\\n",
        " name : 이름\\\n",
        " age : 나이\\\n",
        " continent : 선수들의 국적이 포함되어 있는 대륙입니다\\\n",
        " contract_until : 선수의 계약기간이 언제까지인지 나타내어 줍니다\\\n",
        " position : 선수가 선호하는 포지션입니다. ex) 공격수, 수비수 등\\\n",
        " prefer_foot : 선수가 선호하는 발입니다. ex) 오른발\\\n",
        " reputation : 선수가 유명한 정도입니다. ex) 높은 수치일 수록 유명한 선수\\\n",
        " stat_overall : 선수의 현재 능력치 입니다.\\\n",
        " stat_potential : 선수가 경험 및 노력을 통해 발전할 수 있는 정도입니다.\\\n",
        " stat_skill_moves : 선수의 개인기 능력치 입니다.\\\n",
        " value : FIFA가 선정한 선수의 이적 시장 가격 (단위 : 유로) 입니다\\\n",
        "\n",
        "\n",
        "2. submission.csv (제출 파일 형식)\\\n",
        "id : 선수 고유의 아이디\\\n",
        "value : 예측된 선수 이적 시장 가격을 기입 "
      ],
      "metadata": {
        "id": "emByXkO3kIC2"
      }
    },
    {
      "cell_type": "markdown",
      "source": [
        "##1.2 패키지 로드"
      ],
      "metadata": {
        "id": "YSS1Ii5KkvzW"
      }
    },
    {
      "cell_type": "code",
      "source": [
        "import pandas as pd\n",
        "import numpy as np\n",
        "\n",
        "import matplotlib.pyplot as plt\n",
        "import seaborn as sns\n",
        "\n",
        "from sklearn.preprocessing import OneHotEncoder\n",
        "\n",
        "from sklearn.pipeline import Pipeline\n",
        "from sklearn.model_selection import train_test_split\n",
        "from sklearn.ensemble import RandomForestRegressor\n",
        "from sklearn.preprocessing import StandardScaler\n",
        "from sklearn.model_selection import KFold\n",
        "from sklearn.model_selection import cross_validate\n",
        "\n",
        "from sklearn.metrics import mean_squared_error\n",
        "from sklearn.metrics import mean_absolute_error\n",
        "from sklearn.metrics import r2_score"
      ],
      "metadata": {
        "id": "g5pD5ECUlRuc"
      },
      "execution_count": 344,
      "outputs": []
    },
    {
      "cell_type": "markdown",
      "source": [
        "##1.3 데이터 로드"
      ],
      "metadata": {
        "id": "ZrEYvO3zkzWq"
      }
    },
    {
      "cell_type": "markdown",
      "source": [
        "###1.3.1 파일 로드"
      ],
      "metadata": {
        "id": "se2tT-0ukzGj"
      }
    },
    {
      "cell_type": "code",
      "source": [
        "df_train = pd.read_csv('FIFA_train.csv')\n",
        "df_test = pd.read_csv('FIFA_test.csv')\n",
        "df_submission = pd.read_csv('submission.csv')"
      ],
      "metadata": {
        "id": "gNYvRhB5lvO_"
      },
      "execution_count": 345,
      "outputs": []
    },
    {
      "cell_type": "markdown",
      "source": [
        "###1.3.2 구글 드라이브 로드"
      ],
      "metadata": {
        "id": "3FPiNI6pk77L"
      }
    },
    {
      "cell_type": "markdown",
      "source": [
        "#2.전처리"
      ],
      "metadata": {
        "id": "ukFDgFDejoWB"
      }
    },
    {
      "cell_type": "markdown",
      "source": [
        "삭제, 치환, 결측치 추가, 이상치 제거, 표준화, 정규화"
      ],
      "metadata": {
        "id": "O7cK4YSWl39M"
      }
    },
    {
      "cell_type": "markdown",
      "source": [
        "##2.1 데이터 확인"
      ],
      "metadata": {
        "id": "6X9mUMWZmCSt"
      }
    },
    {
      "cell_type": "code",
      "source": [
        "df_train.head()"
      ],
      "metadata": {
        "colab": {
          "base_uri": "https://localhost:8080/",
          "height": 320
        },
        "id": "Ct1EqAJVmI2A",
        "outputId": "d30232e9-394d-42c1-8bb5-1b7e70f2ee63"
      },
      "execution_count": 346,
      "outputs": [
        {
          "output_type": "execute_result",
          "data": {
            "text/plain": [
              "   id          name  age      continent contract_until position prefer_foot  \\\n",
              "0   0      L. Messi   31  south america           2021       ST        left   \n",
              "1   3        De Gea   27         europe           2020       GK       right   \n",
              "2   7     L. Suárez   31  south america           2021       ST       right   \n",
              "3   8  Sergio Ramos   32         europe           2020       DF       right   \n",
              "4   9      J. Oblak   25         europe           2021       GK       right   \n",
              "\n",
              "   reputation  stat_overall  stat_potential  stat_skill_moves        value  \n",
              "0         5.0            94              94               4.0  110500000.0  \n",
              "1         4.0            91              93               1.0   72000000.0  \n",
              "2         5.0            91              91               3.0   80000000.0  \n",
              "3         4.0            91              91               3.0   51000000.0  \n",
              "4         3.0            90              93               1.0   68000000.0  "
            ],
            "text/html": [
              "\n",
              "  <div id=\"df-595e7493-924f-4ecd-969c-43d0b95105be\">\n",
              "    <div class=\"colab-df-container\">\n",
              "      <div>\n",
              "<style scoped>\n",
              "    .dataframe tbody tr th:only-of-type {\n",
              "        vertical-align: middle;\n",
              "    }\n",
              "\n",
              "    .dataframe tbody tr th {\n",
              "        vertical-align: top;\n",
              "    }\n",
              "\n",
              "    .dataframe thead th {\n",
              "        text-align: right;\n",
              "    }\n",
              "</style>\n",
              "<table border=\"1\" class=\"dataframe\">\n",
              "  <thead>\n",
              "    <tr style=\"text-align: right;\">\n",
              "      <th></th>\n",
              "      <th>id</th>\n",
              "      <th>name</th>\n",
              "      <th>age</th>\n",
              "      <th>continent</th>\n",
              "      <th>contract_until</th>\n",
              "      <th>position</th>\n",
              "      <th>prefer_foot</th>\n",
              "      <th>reputation</th>\n",
              "      <th>stat_overall</th>\n",
              "      <th>stat_potential</th>\n",
              "      <th>stat_skill_moves</th>\n",
              "      <th>value</th>\n",
              "    </tr>\n",
              "  </thead>\n",
              "  <tbody>\n",
              "    <tr>\n",
              "      <th>0</th>\n",
              "      <td>0</td>\n",
              "      <td>L. Messi</td>\n",
              "      <td>31</td>\n",
              "      <td>south america</td>\n",
              "      <td>2021</td>\n",
              "      <td>ST</td>\n",
              "      <td>left</td>\n",
              "      <td>5.0</td>\n",
              "      <td>94</td>\n",
              "      <td>94</td>\n",
              "      <td>4.0</td>\n",
              "      <td>110500000.0</td>\n",
              "    </tr>\n",
              "    <tr>\n",
              "      <th>1</th>\n",
              "      <td>3</td>\n",
              "      <td>De Gea</td>\n",
              "      <td>27</td>\n",
              "      <td>europe</td>\n",
              "      <td>2020</td>\n",
              "      <td>GK</td>\n",
              "      <td>right</td>\n",
              "      <td>4.0</td>\n",
              "      <td>91</td>\n",
              "      <td>93</td>\n",
              "      <td>1.0</td>\n",
              "      <td>72000000.0</td>\n",
              "    </tr>\n",
              "    <tr>\n",
              "      <th>2</th>\n",
              "      <td>7</td>\n",
              "      <td>L. Suárez</td>\n",
              "      <td>31</td>\n",
              "      <td>south america</td>\n",
              "      <td>2021</td>\n",
              "      <td>ST</td>\n",
              "      <td>right</td>\n",
              "      <td>5.0</td>\n",
              "      <td>91</td>\n",
              "      <td>91</td>\n",
              "      <td>3.0</td>\n",
              "      <td>80000000.0</td>\n",
              "    </tr>\n",
              "    <tr>\n",
              "      <th>3</th>\n",
              "      <td>8</td>\n",
              "      <td>Sergio Ramos</td>\n",
              "      <td>32</td>\n",
              "      <td>europe</td>\n",
              "      <td>2020</td>\n",
              "      <td>DF</td>\n",
              "      <td>right</td>\n",
              "      <td>4.0</td>\n",
              "      <td>91</td>\n",
              "      <td>91</td>\n",
              "      <td>3.0</td>\n",
              "      <td>51000000.0</td>\n",
              "    </tr>\n",
              "    <tr>\n",
              "      <th>4</th>\n",
              "      <td>9</td>\n",
              "      <td>J. Oblak</td>\n",
              "      <td>25</td>\n",
              "      <td>europe</td>\n",
              "      <td>2021</td>\n",
              "      <td>GK</td>\n",
              "      <td>right</td>\n",
              "      <td>3.0</td>\n",
              "      <td>90</td>\n",
              "      <td>93</td>\n",
              "      <td>1.0</td>\n",
              "      <td>68000000.0</td>\n",
              "    </tr>\n",
              "  </tbody>\n",
              "</table>\n",
              "</div>\n",
              "      <button class=\"colab-df-convert\" onclick=\"convertToInteractive('df-595e7493-924f-4ecd-969c-43d0b95105be')\"\n",
              "              title=\"Convert this dataframe to an interactive table.\"\n",
              "              style=\"display:none;\">\n",
              "        \n",
              "  <svg xmlns=\"http://www.w3.org/2000/svg\" height=\"24px\"viewBox=\"0 0 24 24\"\n",
              "       width=\"24px\">\n",
              "    <path d=\"M0 0h24v24H0V0z\" fill=\"none\"/>\n",
              "    <path d=\"M18.56 5.44l.94 2.06.94-2.06 2.06-.94-2.06-.94-.94-2.06-.94 2.06-2.06.94zm-11 1L8.5 8.5l.94-2.06 2.06-.94-2.06-.94L8.5 2.5l-.94 2.06-2.06.94zm10 10l.94 2.06.94-2.06 2.06-.94-2.06-.94-.94-2.06-.94 2.06-2.06.94z\"/><path d=\"M17.41 7.96l-1.37-1.37c-.4-.4-.92-.59-1.43-.59-.52 0-1.04.2-1.43.59L10.3 9.45l-7.72 7.72c-.78.78-.78 2.05 0 2.83L4 21.41c.39.39.9.59 1.41.59.51 0 1.02-.2 1.41-.59l7.78-7.78 2.81-2.81c.8-.78.8-2.07 0-2.86zM5.41 20L4 18.59l7.72-7.72 1.47 1.35L5.41 20z\"/>\n",
              "  </svg>\n",
              "      </button>\n",
              "      \n",
              "  <style>\n",
              "    .colab-df-container {\n",
              "      display:flex;\n",
              "      flex-wrap:wrap;\n",
              "      gap: 12px;\n",
              "    }\n",
              "\n",
              "    .colab-df-convert {\n",
              "      background-color: #E8F0FE;\n",
              "      border: none;\n",
              "      border-radius: 50%;\n",
              "      cursor: pointer;\n",
              "      display: none;\n",
              "      fill: #1967D2;\n",
              "      height: 32px;\n",
              "      padding: 0 0 0 0;\n",
              "      width: 32px;\n",
              "    }\n",
              "\n",
              "    .colab-df-convert:hover {\n",
              "      background-color: #E2EBFA;\n",
              "      box-shadow: 0px 1px 2px rgba(60, 64, 67, 0.3), 0px 1px 3px 1px rgba(60, 64, 67, 0.15);\n",
              "      fill: #174EA6;\n",
              "    }\n",
              "\n",
              "    [theme=dark] .colab-df-convert {\n",
              "      background-color: #3B4455;\n",
              "      fill: #D2E3FC;\n",
              "    }\n",
              "\n",
              "    [theme=dark] .colab-df-convert:hover {\n",
              "      background-color: #434B5C;\n",
              "      box-shadow: 0px 1px 3px 1px rgba(0, 0, 0, 0.15);\n",
              "      filter: drop-shadow(0px 1px 2px rgba(0, 0, 0, 0.3));\n",
              "      fill: #FFFFFF;\n",
              "    }\n",
              "  </style>\n",
              "\n",
              "      <script>\n",
              "        const buttonEl =\n",
              "          document.querySelector('#df-595e7493-924f-4ecd-969c-43d0b95105be button.colab-df-convert');\n",
              "        buttonEl.style.display =\n",
              "          google.colab.kernel.accessAllowed ? 'block' : 'none';\n",
              "\n",
              "        async function convertToInteractive(key) {\n",
              "          const element = document.querySelector('#df-595e7493-924f-4ecd-969c-43d0b95105be');\n",
              "          const dataTable =\n",
              "            await google.colab.kernel.invokeFunction('convertToInteractive',\n",
              "                                                     [key], {});\n",
              "          if (!dataTable) return;\n",
              "\n",
              "          const docLinkHtml = 'Like what you see? Visit the ' +\n",
              "            '<a target=\"_blank\" href=https://colab.research.google.com/notebooks/data_table.ipynb>data table notebook</a>'\n",
              "            + ' to learn more about interactive tables.';\n",
              "          element.innerHTML = '';\n",
              "          dataTable['output_type'] = 'display_data';\n",
              "          await google.colab.output.renderOutput(dataTable, element);\n",
              "          const docLink = document.createElement('div');\n",
              "          docLink.innerHTML = docLinkHtml;\n",
              "          element.appendChild(docLink);\n",
              "        }\n",
              "      </script>\n",
              "    </div>\n",
              "  </div>\n",
              "  "
            ]
          },
          "metadata": {},
          "execution_count": 346
        }
      ]
    },
    {
      "cell_type": "code",
      "source": [
        "df_train.info()"
      ],
      "metadata": {
        "colab": {
          "base_uri": "https://localhost:8080/"
        },
        "id": "eOYqMS37mtAL",
        "outputId": "ecbac061-9fbe-43d4-dc17-e7a4cd4a6b9c"
      },
      "execution_count": 347,
      "outputs": [
        {
          "output_type": "stream",
          "name": "stdout",
          "text": [
            "<class 'pandas.core.frame.DataFrame'>\n",
            "RangeIndex: 8932 entries, 0 to 8931\n",
            "Data columns (total 12 columns):\n",
            " #   Column            Non-Null Count  Dtype  \n",
            "---  ------            --------------  -----  \n",
            " 0   id                8932 non-null   int64  \n",
            " 1   name              8932 non-null   object \n",
            " 2   age               8932 non-null   int64  \n",
            " 3   continent         8932 non-null   object \n",
            " 4   contract_until    8932 non-null   object \n",
            " 5   position          8932 non-null   object \n",
            " 6   prefer_foot       8932 non-null   object \n",
            " 7   reputation        8932 non-null   float64\n",
            " 8   stat_overall      8932 non-null   int64  \n",
            " 9   stat_potential    8932 non-null   int64  \n",
            " 10  stat_skill_moves  8932 non-null   float64\n",
            " 11  value             8932 non-null   float64\n",
            "dtypes: float64(3), int64(4), object(5)\n",
            "memory usage: 837.5+ KB\n"
          ]
        }
      ]
    },
    {
      "cell_type": "code",
      "source": [
        "df_test.info()"
      ],
      "metadata": {
        "colab": {
          "base_uri": "https://localhost:8080/"
        },
        "id": "paKPIxt1mw0S",
        "outputId": "464b4ece-9db8-410d-ce54-46a4a7da77db"
      },
      "execution_count": 348,
      "outputs": [
        {
          "output_type": "stream",
          "name": "stdout",
          "text": [
            "<class 'pandas.core.frame.DataFrame'>\n",
            "RangeIndex: 3828 entries, 0 to 3827\n",
            "Data columns (total 11 columns):\n",
            " #   Column            Non-Null Count  Dtype  \n",
            "---  ------            --------------  -----  \n",
            " 0   id                3828 non-null   int64  \n",
            " 1   name              3828 non-null   object \n",
            " 2   age               3828 non-null   int64  \n",
            " 3   continent         3828 non-null   object \n",
            " 4   contract_until    3828 non-null   object \n",
            " 5   position          3828 non-null   object \n",
            " 6   prefer_foot       3828 non-null   object \n",
            " 7   reputation        3828 non-null   float64\n",
            " 8   stat_overall      3828 non-null   int64  \n",
            " 9   stat_potential    3828 non-null   int64  \n",
            " 10  stat_skill_moves  3828 non-null   float64\n",
            "dtypes: float64(2), int64(4), object(5)\n",
            "memory usage: 329.1+ KB\n"
          ]
        }
      ]
    },
    {
      "cell_type": "code",
      "source": [
        "df_train.describe()"
      ],
      "metadata": {
        "colab": {
          "base_uri": "https://localhost:8080/",
          "height": 300
        },
        "id": "mun8es2snevU",
        "outputId": "7de9f7f7-e327-4f22-d83b-38e4f0a22f99"
      },
      "execution_count": 349,
      "outputs": [
        {
          "output_type": "execute_result",
          "data": {
            "text/plain": [
              "                 id          age   reputation  stat_overall  stat_potential  \\\n",
              "count   8932.000000  8932.000000  8932.000000   8932.000000     8932.000000   \n",
              "mean    7966.775750    25.209136     1.130878     67.091133       71.997201   \n",
              "std     4844.428521     4.635515     0.423792      6.854910        5.988147   \n",
              "min        0.000000    16.000000     1.000000     47.000000       48.000000   \n",
              "25%     3751.750000    21.000000     1.000000     63.000000       68.000000   \n",
              "50%     7696.500000    25.000000     1.000000     67.000000       72.000000   \n",
              "75%    12082.250000    28.000000     1.000000     72.000000       76.000000   \n",
              "max    16948.000000    40.000000     5.000000     94.000000       94.000000   \n",
              "\n",
              "       stat_skill_moves         value  \n",
              "count       8932.000000  8.932000e+03  \n",
              "mean           2.401702  2.778673e+06  \n",
              "std            0.776048  5.840982e+06  \n",
              "min            1.000000  1.000000e+04  \n",
              "25%            2.000000  3.750000e+05  \n",
              "50%            2.000000  8.250000e+05  \n",
              "75%            3.000000  2.600000e+06  \n",
              "max            5.000000  1.105000e+08  "
            ],
            "text/html": [
              "\n",
              "  <div id=\"df-1e7e66d3-92b5-4736-bb6f-0530e89a212b\">\n",
              "    <div class=\"colab-df-container\">\n",
              "      <div>\n",
              "<style scoped>\n",
              "    .dataframe tbody tr th:only-of-type {\n",
              "        vertical-align: middle;\n",
              "    }\n",
              "\n",
              "    .dataframe tbody tr th {\n",
              "        vertical-align: top;\n",
              "    }\n",
              "\n",
              "    .dataframe thead th {\n",
              "        text-align: right;\n",
              "    }\n",
              "</style>\n",
              "<table border=\"1\" class=\"dataframe\">\n",
              "  <thead>\n",
              "    <tr style=\"text-align: right;\">\n",
              "      <th></th>\n",
              "      <th>id</th>\n",
              "      <th>age</th>\n",
              "      <th>reputation</th>\n",
              "      <th>stat_overall</th>\n",
              "      <th>stat_potential</th>\n",
              "      <th>stat_skill_moves</th>\n",
              "      <th>value</th>\n",
              "    </tr>\n",
              "  </thead>\n",
              "  <tbody>\n",
              "    <tr>\n",
              "      <th>count</th>\n",
              "      <td>8932.000000</td>\n",
              "      <td>8932.000000</td>\n",
              "      <td>8932.000000</td>\n",
              "      <td>8932.000000</td>\n",
              "      <td>8932.000000</td>\n",
              "      <td>8932.000000</td>\n",
              "      <td>8.932000e+03</td>\n",
              "    </tr>\n",
              "    <tr>\n",
              "      <th>mean</th>\n",
              "      <td>7966.775750</td>\n",
              "      <td>25.209136</td>\n",
              "      <td>1.130878</td>\n",
              "      <td>67.091133</td>\n",
              "      <td>71.997201</td>\n",
              "      <td>2.401702</td>\n",
              "      <td>2.778673e+06</td>\n",
              "    </tr>\n",
              "    <tr>\n",
              "      <th>std</th>\n",
              "      <td>4844.428521</td>\n",
              "      <td>4.635515</td>\n",
              "      <td>0.423792</td>\n",
              "      <td>6.854910</td>\n",
              "      <td>5.988147</td>\n",
              "      <td>0.776048</td>\n",
              "      <td>5.840982e+06</td>\n",
              "    </tr>\n",
              "    <tr>\n",
              "      <th>min</th>\n",
              "      <td>0.000000</td>\n",
              "      <td>16.000000</td>\n",
              "      <td>1.000000</td>\n",
              "      <td>47.000000</td>\n",
              "      <td>48.000000</td>\n",
              "      <td>1.000000</td>\n",
              "      <td>1.000000e+04</td>\n",
              "    </tr>\n",
              "    <tr>\n",
              "      <th>25%</th>\n",
              "      <td>3751.750000</td>\n",
              "      <td>21.000000</td>\n",
              "      <td>1.000000</td>\n",
              "      <td>63.000000</td>\n",
              "      <td>68.000000</td>\n",
              "      <td>2.000000</td>\n",
              "      <td>3.750000e+05</td>\n",
              "    </tr>\n",
              "    <tr>\n",
              "      <th>50%</th>\n",
              "      <td>7696.500000</td>\n",
              "      <td>25.000000</td>\n",
              "      <td>1.000000</td>\n",
              "      <td>67.000000</td>\n",
              "      <td>72.000000</td>\n",
              "      <td>2.000000</td>\n",
              "      <td>8.250000e+05</td>\n",
              "    </tr>\n",
              "    <tr>\n",
              "      <th>75%</th>\n",
              "      <td>12082.250000</td>\n",
              "      <td>28.000000</td>\n",
              "      <td>1.000000</td>\n",
              "      <td>72.000000</td>\n",
              "      <td>76.000000</td>\n",
              "      <td>3.000000</td>\n",
              "      <td>2.600000e+06</td>\n",
              "    </tr>\n",
              "    <tr>\n",
              "      <th>max</th>\n",
              "      <td>16948.000000</td>\n",
              "      <td>40.000000</td>\n",
              "      <td>5.000000</td>\n",
              "      <td>94.000000</td>\n",
              "      <td>94.000000</td>\n",
              "      <td>5.000000</td>\n",
              "      <td>1.105000e+08</td>\n",
              "    </tr>\n",
              "  </tbody>\n",
              "</table>\n",
              "</div>\n",
              "      <button class=\"colab-df-convert\" onclick=\"convertToInteractive('df-1e7e66d3-92b5-4736-bb6f-0530e89a212b')\"\n",
              "              title=\"Convert this dataframe to an interactive table.\"\n",
              "              style=\"display:none;\">\n",
              "        \n",
              "  <svg xmlns=\"http://www.w3.org/2000/svg\" height=\"24px\"viewBox=\"0 0 24 24\"\n",
              "       width=\"24px\">\n",
              "    <path d=\"M0 0h24v24H0V0z\" fill=\"none\"/>\n",
              "    <path d=\"M18.56 5.44l.94 2.06.94-2.06 2.06-.94-2.06-.94-.94-2.06-.94 2.06-2.06.94zm-11 1L8.5 8.5l.94-2.06 2.06-.94-2.06-.94L8.5 2.5l-.94 2.06-2.06.94zm10 10l.94 2.06.94-2.06 2.06-.94-2.06-.94-.94-2.06-.94 2.06-2.06.94z\"/><path d=\"M17.41 7.96l-1.37-1.37c-.4-.4-.92-.59-1.43-.59-.52 0-1.04.2-1.43.59L10.3 9.45l-7.72 7.72c-.78.78-.78 2.05 0 2.83L4 21.41c.39.39.9.59 1.41.59.51 0 1.02-.2 1.41-.59l7.78-7.78 2.81-2.81c.8-.78.8-2.07 0-2.86zM5.41 20L4 18.59l7.72-7.72 1.47 1.35L5.41 20z\"/>\n",
              "  </svg>\n",
              "      </button>\n",
              "      \n",
              "  <style>\n",
              "    .colab-df-container {\n",
              "      display:flex;\n",
              "      flex-wrap:wrap;\n",
              "      gap: 12px;\n",
              "    }\n",
              "\n",
              "    .colab-df-convert {\n",
              "      background-color: #E8F0FE;\n",
              "      border: none;\n",
              "      border-radius: 50%;\n",
              "      cursor: pointer;\n",
              "      display: none;\n",
              "      fill: #1967D2;\n",
              "      height: 32px;\n",
              "      padding: 0 0 0 0;\n",
              "      width: 32px;\n",
              "    }\n",
              "\n",
              "    .colab-df-convert:hover {\n",
              "      background-color: #E2EBFA;\n",
              "      box-shadow: 0px 1px 2px rgba(60, 64, 67, 0.3), 0px 1px 3px 1px rgba(60, 64, 67, 0.15);\n",
              "      fill: #174EA6;\n",
              "    }\n",
              "\n",
              "    [theme=dark] .colab-df-convert {\n",
              "      background-color: #3B4455;\n",
              "      fill: #D2E3FC;\n",
              "    }\n",
              "\n",
              "    [theme=dark] .colab-df-convert:hover {\n",
              "      background-color: #434B5C;\n",
              "      box-shadow: 0px 1px 3px 1px rgba(0, 0, 0, 0.15);\n",
              "      filter: drop-shadow(0px 1px 2px rgba(0, 0, 0, 0.3));\n",
              "      fill: #FFFFFF;\n",
              "    }\n",
              "  </style>\n",
              "\n",
              "      <script>\n",
              "        const buttonEl =\n",
              "          document.querySelector('#df-1e7e66d3-92b5-4736-bb6f-0530e89a212b button.colab-df-convert');\n",
              "        buttonEl.style.display =\n",
              "          google.colab.kernel.accessAllowed ? 'block' : 'none';\n",
              "\n",
              "        async function convertToInteractive(key) {\n",
              "          const element = document.querySelector('#df-1e7e66d3-92b5-4736-bb6f-0530e89a212b');\n",
              "          const dataTable =\n",
              "            await google.colab.kernel.invokeFunction('convertToInteractive',\n",
              "                                                     [key], {});\n",
              "          if (!dataTable) return;\n",
              "\n",
              "          const docLinkHtml = 'Like what you see? Visit the ' +\n",
              "            '<a target=\"_blank\" href=https://colab.research.google.com/notebooks/data_table.ipynb>data table notebook</a>'\n",
              "            + ' to learn more about interactive tables.';\n",
              "          element.innerHTML = '';\n",
              "          dataTable['output_type'] = 'display_data';\n",
              "          await google.colab.output.renderOutput(dataTable, element);\n",
              "          const docLink = document.createElement('div');\n",
              "          docLink.innerHTML = docLinkHtml;\n",
              "          element.appendChild(docLink);\n",
              "        }\n",
              "      </script>\n",
              "    </div>\n",
              "  </div>\n",
              "  "
            ]
          },
          "metadata": {},
          "execution_count": 349
        }
      ]
    },
    {
      "cell_type": "code",
      "source": [
        "df_train.corr().value"
      ],
      "metadata": {
        "colab": {
          "base_uri": "https://localhost:8080/"
        },
        "id": "Wla1icNOnS3G",
        "outputId": "d7eb2fe9-d2de-4b7a-af76-f5cbbf47d87c"
      },
      "execution_count": 350,
      "outputs": [
        {
          "output_type": "execute_result",
          "data": {
            "text/plain": [
              "id                 -0.544280\n",
              "age                 0.087319\n",
              "reputation          0.665982\n",
              "stat_overall        0.658444\n",
              "stat_potential      0.611907\n",
              "stat_skill_moves    0.298500\n",
              "value               1.000000\n",
              "Name: value, dtype: float64"
            ]
          },
          "metadata": {},
          "execution_count": 350
        }
      ]
    },
    {
      "cell_type": "markdown",
      "source": [
        "##2.2 데이터 시각화"
      ],
      "metadata": {
        "id": "p6MEKEoTnPFa"
      }
    },
    {
      "cell_type": "code",
      "source": [
        "fig, axes = plt.subplots(3, 3,figsize=(15,15))\n",
        "plt.xticks(rotation=-45)\n",
        "\n",
        "sns.scatterplot(x = 'id', y = 'value',data = df_train, ax = axes[0][0])\n",
        "sns.scatterplot(x = 'age', y = 'value',data = df_train, ax = axes[0][1])\n",
        "sns.scatterplot(x = 'reputation', y = 'value',data = df_train, ax = axes[0][2])\n",
        "sns.scatterplot(x = 'stat_overall', y = 'value',data = df_train, ax = axes[1][0])\n",
        "sns.scatterplot(x = 'stat_potential', y = 'value',data = df_train, ax = axes[1][1])\n",
        "sns.scatterplot(x = 'stat_skill_moves', y = 'value',data = df_train, ax = axes[1][2])\n",
        "sns.barplot(x = 'position', y = 'value',data = df_train, ax = axes[2][0])\n",
        "sns.barplot(x = 'prefer_foot', y = 'value',data = df_train, ax = axes[2][1])\n",
        "sns.barplot(x = 'continent', y = 'value',data = df_train, ax = axes[2][2])\n",
        "\n",
        "plt.suptitle(\"Distribution of competitor value by feature\",fontsize=15,va='top',ha='center')\n",
        "plt.show()"
      ],
      "metadata": {
        "colab": {
          "base_uri": "https://localhost:8080/",
          "height": 1000
        },
        "id": "w_Ux1hkdwcEf",
        "outputId": "3ab339a8-f6a7-4d5f-895b-9ffd3ce4de44"
      },
      "execution_count": 351,
      "outputs": [
        {
          "output_type": "display_data",
          "data": {
            "text/plain": [
              "<Figure size 1080x1080 with 9 Axes>"
            ],
            "image/png": "[encoded data removed]"
          },
          "metadata": {
            "needs_background": "light"
          }
        }
      ]
    },
    {
      "cell_type": "code",
      "source": [
        "df1 = df_train.drop([\"id\",\"value\"], axis =1)\n",
        "sns.boxplot(data = df1)"
      ],
      "metadata": {
        "colab": {
          "base_uri": "https://localhost:8080/",
          "height": 284
        },
        "id": "gGx3pjhmp_JT",
        "outputId": "7f7ab7cc-7040-4bd5-e7eb-0026ec3906b6"
      },
      "execution_count": 352,
      "outputs": [
        {
          "output_type": "execute_result",
          "data": {
            "text/plain": [
              "<matplotlib.axes._subplots.AxesSubplot at 0x7fac11c46150>"
            ]
          },
          "metadata": {},
          "execution_count": 352
        },
        {
          "output_type": "display_data",
          "data": {
            "text/plain": [
              "<Figure size 432x288 with 1 Axes>"
            ],
            "image/png": "[encoded data removed]"
          },
          "metadata": {
            "needs_background": "light"
          }
        }
      ]
    },
    {
      "cell_type": "code",
      "source": [
        "df2 = df_train.value\n",
        "sns.boxplot(data = df2)"
      ],
      "metadata": {
        "colab": {
          "base_uri": "https://localhost:8080/",
          "height": 294
        },
        "id": "-DhMpedPbCk_",
        "outputId": "3056ea16-2931-43e1-81fe-cca19f234c19"
      },
      "execution_count": 353,
      "outputs": [
        {
          "output_type": "execute_result",
          "data": {
            "text/plain": [
              "<matplotlib.axes._subplots.AxesSubplot at 0x7fac11b75590>"
            ]
          },
          "metadata": {},
          "execution_count": 353
        },
        {
          "output_type": "display_data",
          "data": {
            "text/plain": [
              "<Figure size 432x288 with 1 Axes>"
            ],
            "image/png": "[encoded data removed]"
          },
          "metadata": {
            "needs_background": "light"
          }
        }
      ]
    },
    {
      "cell_type": "markdown",
      "source": [
        "##2.3 이상치 처리"
      ],
      "metadata": {
        "id": "R7inME57puvO"
      }
    },
    {
      "cell_type": "markdown",
      "source": [
        "이상치 검출 함수 생성"
      ],
      "metadata": {
        "id": "8Xhi_CCpUVd-"
      }
    },
    {
      "cell_type": "code",
      "source": [
        "# def get_outlier(df=None, column=None, weight=1.5):\n",
        "#   # target 값과 상관관계가 높은 열을 우선적으로 진행\n",
        "#   quantile_25 = np.percentile(df[column].values, 25)\n",
        "#   quantile_75 = np.percentile(df[column].values, 75)\n",
        "\n",
        "#   IQR = quantile_75 - quantile_25\n",
        "#   IQR_weight = IQR*weight\n",
        "  \n",
        "#   lowest = quantile_25 - IQR_weight\n",
        "#   highest = quantile_75 + IQR_weight\n",
        "  \n",
        "#   out_lowest_idx = df[column][ (df[column] < lowest) ].index\n",
        "#   out_highest_idx = df[column][  (df[column] > highest) ].index  \n",
        "\n",
        "#   return out_lowest_idx, lowest, out_highest_idx, highest"
      ],
      "metadata": {
        "id": "kCyh4-tZesjA"
      },
      "execution_count": 354,
      "outputs": []
    },
    {
      "cell_type": "code",
      "source": [
        "# 제거할 이상치 검출\n",
        "def get_outlier(df=None, column=None, weight=1.5):\n",
        "  # target 값과 상관관계가 높은 열을 우선적으로 진행\n",
        "  quantile_25 = np.percentile(df[column].values, 25)\n",
        "  quantile_75 = np.percentile(df[column].values, 75)\n",
        "\n",
        "  IQR = quantile_75 - quantile_25\n",
        "  IQR_weight = IQR*weight\n",
        "  \n",
        "  lowest = quantile_25 - IQR_weight\n",
        "  highest = quantile_75 + IQR_weight\n",
        "  \n",
        "  outlier_idx = df[column][ (df[column] < lowest) | (df[column] > highest) ].index\n",
        "\n",
        "\n",
        "  return outlier_idx"
      ],
      "metadata": {
        "id": "ZBzO2qQaQedn"
      },
      "execution_count": 355,
      "outputs": []
    },
    {
      "cell_type": "code",
      "source": [
        "# outlier_idx = get_outlier(df=df_train, column='value', weight=1.5)\n",
        "# print(len(outlier_idx))"
      ],
      "metadata": {
        "id": "4-sAyswFf4Iz"
      },
      "execution_count": 356,
      "outputs": []
    },
    {
      "cell_type": "code",
      "source": [
        "# out_lowest_idx, lowest, out_highest_idx, highest = get_outlier(df=df_train, column='value', weight=1.5)\n",
        "# print(out_lowest_idx)\n",
        "# print(lowest)\n",
        "# print(out_highest_idx)\n",
        "# print(highest)"
      ],
      "metadata": {
        "id": "JtRdATZmVSFl"
      },
      "execution_count": 357,
      "outputs": []
    },
    {
      "cell_type": "markdown",
      "source": [
        "이상치 값을 양단 값들로 치환"
      ],
      "metadata": {
        "id": "X-03dwPcaJFk"
      }
    },
    {
      "cell_type": "code",
      "source": [
        "# 이상치 제거\n",
        "outlier_idx = get_outlier(df=df_train, column='value', weight=1.5)\n",
        "for idx in outlier_idx:\n",
        "  df_train.drop(idx, axis=0, inplace=True)"
      ],
      "metadata": {
        "id": "qwiMh6rUfG0a"
      },
      "execution_count": 358,
      "outputs": []
    },
    {
      "cell_type": "code",
      "source": [
        "# out_lowest_idx, lowest, out_highest_idx, highest = get_outlier(df=df_train, column='value', weight=1.5)\n",
        "# for idx in out_highest_idx:\n",
        "#   df_train.loc[idx,\"value\"] = highest\n",
        "\n",
        "# for idx in out_lowest_idx:\n",
        "#   df_train.loc[idx,\"value\"] = lowest"
      ],
      "metadata": {
        "id": "yPNDLzCWaFYc"
      },
      "execution_count": 359,
      "outputs": []
    },
    {
      "cell_type": "code",
      "source": [
        "df_train.head()"
      ],
      "metadata": {
        "colab": {
          "base_uri": "https://localhost:8080/",
          "height": 340
        },
        "id": "79DwRnN3c2ir",
        "outputId": "739ff010-3c6b-426d-a01d-2df425692522"
      },
      "execution_count": 360,
      "outputs": [
        {
          "output_type": "execute_result",
          "data": {
            "text/plain": [
              "      id            name  age      continent contract_until position  \\\n",
              "23    41       G. Buffon   40         europe           2019       GK   \n",
              "194  314      Dani Alves   35  south america           2019       DF   \n",
              "196  317         P. Čech   36         europe           2019       GK   \n",
              "248  410      J. Mathieu   34         europe           2019       DF   \n",
              "256  420  Everton Andrão   34  south america           2021       MF   \n",
              "\n",
              "    prefer_foot  reputation  stat_overall  stat_potential  stat_skill_moves  \\\n",
              "23        right         4.0            88              88               1.0   \n",
              "194       right         4.0            82              82               4.0   \n",
              "196        left         4.0            82              82               1.0   \n",
              "248        left         3.0            81              81               2.0   \n",
              "256       right         1.0            80              80               2.0   \n",
              "\n",
              "         value  \n",
              "23   4000000.0  \n",
              "194  4800000.0  \n",
              "196  3000000.0  \n",
              "248  5500000.0  \n",
              "256  4500000.0  "
            ],
            "text/html": [
              "\n",
              "  <div id=\"df-8b8ba8ce-e97a-475a-b73a-17c6674749cb\">\n",
              "    <div class=\"colab-df-container\">\n",
              "      <div>\n",
              "<style scoped>\n",
              "    .dataframe tbody tr th:only-of-type {\n",
              "        vertical-align: middle;\n",
              "    }\n",
              "\n",
              "    .dataframe tbody tr th {\n",
              "        vertical-align: top;\n",
              "    }\n",
              "\n",
              "    .dataframe thead th {\n",
              "        text-align: right;\n",
              "    }\n",
              "</style>\n",
              "<table border=\"1\" class=\"dataframe\">\n",
              "  <thead>\n",
              "    <tr style=\"text-align: right;\">\n",
              "      <th></th>\n",
              "      <th>id</th>\n",
              "      <th>name</th>\n",
              "      <th>age</th>\n",
              "      <th>continent</th>\n",
              "      <th>contract_until</th>\n",
              "      <th>position</th>\n",
              "      <th>prefer_foot</th>\n",
              "      <th>reputation</th>\n",
              "      <th>stat_overall</th>\n",
              "      <th>stat_potential</th>\n",
              "      <th>stat_skill_moves</th>\n",
              "      <th>value</th>\n",
              "    </tr>\n",
              "  </thead>\n",
              "  <tbody>\n",
              "    <tr>\n",
              "      <th>23</th>\n",
              "      <td>41</td>\n",
              "      <td>G. Buffon</td>\n",
              "      <td>40</td>\n",
              "      <td>europe</td>\n",
              "      <td>2019</td>\n",
              "      <td>GK</td>\n",
              "      <td>right</td>\n",
              "      <td>4.0</td>\n",
              "      <td>88</td>\n",
              "      <td>88</td>\n",
              "      <td>1.0</td>\n",
              "      <td>4000000.0</td>\n",
              "    </tr>\n",
              "    <tr>\n",
              "      <th>194</th>\n",
              "      <td>314</td>\n",
              "      <td>Dani Alves</td>\n",
              "      <td>35</td>\n",
              "      <td>south america</td>\n",
              "      <td>2019</td>\n",
              "      <td>DF</td>\n",
              "      <td>right</td>\n",
              "      <td>4.0</td>\n",
              "      <td>82</td>\n",
              "      <td>82</td>\n",
              "      <td>4.0</td>\n",
              "      <td>4800000.0</td>\n",
              "    </tr>\n",
              "    <tr>\n",
              "      <th>196</th>\n",
              "      <td>317</td>\n",
              "      <td>P. Čech</td>\n",
              "      <td>36</td>\n",
              "      <td>europe</td>\n",
              "      <td>2019</td>\n",
              "      <td>GK</td>\n",
              "      <td>left</td>\n",
              "      <td>4.0</td>\n",
              "      <td>82</td>\n",
              "      <td>82</td>\n",
              "      <td>1.0</td>\n",
              "      <td>3000000.0</td>\n",
              "    </tr>\n",
              "    <tr>\n",
              "      <th>248</th>\n",
              "      <td>410</td>\n",
              "      <td>J. Mathieu</td>\n",
              "      <td>34</td>\n",
              "      <td>europe</td>\n",
              "      <td>2019</td>\n",
              "      <td>DF</td>\n",
              "      <td>left</td>\n",
              "      <td>3.0</td>\n",
              "      <td>81</td>\n",
              "      <td>81</td>\n",
              "      <td>2.0</td>\n",
              "      <td>5500000.0</td>\n",
              "    </tr>\n",
              "    <tr>\n",
              "      <th>256</th>\n",
              "      <td>420</td>\n",
              "      <td>Everton Andrão</td>\n",
              "      <td>34</td>\n",
              "      <td>south america</td>\n",
              "      <td>2021</td>\n",
              "      <td>MF</td>\n",
              "      <td>right</td>\n",
              "      <td>1.0</td>\n",
              "      <td>80</td>\n",
              "      <td>80</td>\n",
              "      <td>2.0</td>\n",
              "      <td>4500000.0</td>\n",
              "    </tr>\n",
              "  </tbody>\n",
              "</table>\n",
              "</div>\n",
              "      <button class=\"colab-df-convert\" onclick=\"convertToInteractive('df-8b8ba8ce-e97a-475a-b73a-17c6674749cb')\"\n",
              "              title=\"Convert this dataframe to an interactive table.\"\n",
              "              style=\"display:none;\">\n",
              "        \n",
              "  <svg xmlns=\"http://www.w3.org/2000/svg\" height=\"24px\"viewBox=\"0 0 24 24\"\n",
              "       width=\"24px\">\n",
              "    <path d=\"M0 0h24v24H0V0z\" fill=\"none\"/>\n",
              "    <path d=\"M18.56 5.44l.94 2.06.94-2.06 2.06-.94-2.06-.94-.94-2.06-.94 2.06-2.06.94zm-11 1L8.5 8.5l.94-2.06 2.06-.94-2.06-.94L8.5 2.5l-.94 2.06-2.06.94zm10 10l.94 2.06.94-2.06 2.06-.94-2.06-.94-.94-2.06-.94 2.06-2.06.94z\"/><path d=\"M17.41 7.96l-1.37-1.37c-.4-.4-.92-.59-1.43-.59-.52 0-1.04.2-1.43.59L10.3 9.45l-7.72 7.72c-.78.78-.78 2.05 0 2.83L4 21.41c.39.39.9.59 1.41.59.51 0 1.02-.2 1.41-.59l7.78-7.78 2.81-2.81c.8-.78.8-2.07 0-2.86zM5.41 20L4 18.59l7.72-7.72 1.47 1.35L5.41 20z\"/>\n",
              "  </svg>\n",
              "      </button>\n",
              "      \n",
              "  <style>\n",
              "    .colab-df-container {\n",
              "      display:flex;\n",
              "      flex-wrap:wrap;\n",
              "      gap: 12px;\n",
              "    }\n",
              "\n",
              "    .colab-df-convert {\n",
              "      background-color: #E8F0FE;\n",
              "      border: none;\n",
              "      border-radius: 50%;\n",
              "      cursor: pointer;\n",
              "      display: none;\n",
              "      fill: #1967D2;\n",
              "      height: 32px;\n",
              "      padding: 0 0 0 0;\n",
              "      width: 32px;\n",
              "    }\n",
              "\n",
              "    .colab-df-convert:hover {\n",
              "      background-color: #E2EBFA;\n",
              "      box-shadow: 0px 1px 2px rgba(60, 64, 67, 0.3), 0px 1px 3px 1px rgba(60, 64, 67, 0.15);\n",
              "      fill: #174EA6;\n",
              "    }\n",
              "\n",
              "    [theme=dark] .colab-df-convert {\n",
              "      background-color: #3B4455;\n",
              "      fill: #D2E3FC;\n",
              "    }\n",
              "\n",
              "    [theme=dark] .colab-df-convert:hover {\n",
              "      background-color: #434B5C;\n",
              "      box-shadow: 0px 1px 3px 1px rgba(0, 0, 0, 0.15);\n",
              "      filter: drop-shadow(0px 1px 2px rgba(0, 0, 0, 0.3));\n",
              "      fill: #FFFFFF;\n",
              "    }\n",
              "  </style>\n",
              "\n",
              "      <script>\n",
              "        const buttonEl =\n",
              "          document.querySelector('#df-8b8ba8ce-e97a-475a-b73a-17c6674749cb button.colab-df-convert');\n",
              "        buttonEl.style.display =\n",
              "          google.colab.kernel.accessAllowed ? 'block' : 'none';\n",
              "\n",
              "        async function convertToInteractive(key) {\n",
              "          const element = document.querySelector('#df-8b8ba8ce-e97a-475a-b73a-17c6674749cb');\n",
              "          const dataTable =\n",
              "            await google.colab.kernel.invokeFunction('convertToInteractive',\n",
              "                                                     [key], {});\n",
              "          if (!dataTable) return;\n",
              "\n",
              "          const docLinkHtml = 'Like what you see? Visit the ' +\n",
              "            '<a target=\"_blank\" href=https://colab.research.google.com/notebooks/data_table.ipynb>data table notebook</a>'\n",
              "            + ' to learn more about interactive tables.';\n",
              "          element.innerHTML = '';\n",
              "          dataTable['output_type'] = 'display_data';\n",
              "          await google.colab.output.renderOutput(dataTable, element);\n",
              "          const docLink = document.createElement('div');\n",
              "          docLink.innerHTML = docLinkHtml;\n",
              "          element.appendChild(docLink);\n",
              "        }\n",
              "      </script>\n",
              "    </div>\n",
              "  </div>\n",
              "  "
            ]
          },
          "metadata": {},
          "execution_count": 360
        }
      ]
    },
    {
      "cell_type": "markdown",
      "source": [
        "##2.4 인코딩"
      ],
      "metadata": {
        "id": "ieBn8thCplab"
      }
    },
    {
      "cell_type": "code",
      "source": [
        "df_train = pd.concat([df_train, pd.get_dummies(df_train[\"continent\"])], axis =1)\n",
        "df_train = pd.concat([df_train, pd.get_dummies(df_train[\"position\"])], axis =1)\n",
        "df_train = pd.concat([df_train, pd.get_dummies(df_train[\"prefer_foot\"])], axis =1)\n",
        "\n",
        "df_test = pd.concat([df_test, pd.get_dummies(df_test[\"continent\"])], axis =1)\n",
        "df_test = pd.concat([df_test, pd.get_dummies(df_test[\"position\"])], axis =1)\n",
        "df_test = pd.concat([df_test, pd.get_dummies(df_test[\"prefer_foot\"])], axis =1)"
      ],
      "metadata": {
        "id": "2LIdBJN4sNXy"
      },
      "execution_count": 361,
      "outputs": []
    },
    {
      "cell_type": "markdown",
      "source": [
        "##2.5 컬럼 제거"
      ],
      "metadata": {
        "id": "aHf93Uf-r2X7"
      }
    },
    {
      "cell_type": "code",
      "source": [
        "df_train.drop([\"name\",\"continent\",\"position\",\"prefer_foot\",\"contract_until\"],axis=1,inplace=True)\n",
        "\n",
        "df_test.drop([\"name\",\"continent\",\"position\",\"prefer_foot\",\"contract_until\"],axis=1,inplace=True)"
      ],
      "metadata": {
        "id": "RZAwDXzCu_K_"
      },
      "execution_count": 362,
      "outputs": []
    },
    {
      "cell_type": "code",
      "source": [
        "df_train.columns"
      ],
      "metadata": {
        "colab": {
          "base_uri": "https://localhost:8080/"
        },
        "id": "LJ2TGuK4xLOt",
        "outputId": "bcc984ab-36de-4074-da6d-4d81ba0f8000"
      },
      "execution_count": 363,
      "outputs": [
        {
          "output_type": "execute_result",
          "data": {
            "text/plain": [
              "Index(['id', 'age', 'reputation', 'stat_overall', 'stat_potential',\n",
              "       'stat_skill_moves', 'value', 'africa', 'asia', 'europe', 'oceania',\n",
              "       'south america', 'DF', 'GK', 'MF', 'ST', 'left', 'right'],\n",
              "      dtype='object')"
            ]
          },
          "metadata": {},
          "execution_count": 363
        }
      ]
    },
    {
      "cell_type": "code",
      "source": [
        "df_train = df_train[[\"id\",'age', 'reputation', 'stat_overall', 'stat_potential',\n",
        "       'stat_skill_moves', 'africa', 'asia', 'europe', 'oceania',\n",
        "       'south america', 'DF', 'GK', 'MF', 'ST', 'left', 'right', 'value']]"
      ],
      "metadata": {
        "id": "FlAHZABnxy9Y"
      },
      "execution_count": 364,
      "outputs": []
    },
    {
      "cell_type": "code",
      "source": [
        "df_train.corr().value"
      ],
      "metadata": {
        "id": "n2XpmazSKWB-",
        "colab": {
          "base_uri": "https://localhost:8080/"
        },
        "outputId": "482c3137-c731-4c6f-e510-314b0501a7a7"
      },
      "execution_count": 365,
      "outputs": [
        {
          "output_type": "execute_result",
          "data": {
            "text/plain": [
              "id                 -0.773758\n",
              "age                 0.180620\n",
              "reputation          0.255898\n",
              "stat_overall        0.744539\n",
              "stat_potential      0.563942\n",
              "stat_skill_moves    0.331204\n",
              "africa              0.053814\n",
              "asia               -0.114722\n",
              "europe             -0.033442\n",
              "oceania            -0.062916\n",
              "south america       0.110455\n",
              "DF                 -0.014044\n",
              "GK                 -0.102136\n",
              "MF                  0.039349\n",
              "ST                  0.052963\n",
              "left                0.028013\n",
              "right              -0.028013\n",
              "value               1.000000\n",
              "Name: value, dtype: float64"
            ]
          },
          "metadata": {},
          "execution_count": 365
        }
      ]
    },
    {
      "cell_type": "markdown",
      "source": [
        "#3.학습 & 예측"
      ],
      "metadata": {
        "id": "cm3leKChjoZP"
      }
    },
    {
      "cell_type": "code",
      "source": [
        "splitter = KFold(n_splits=5, shuffle=True, random_state=1)\n",
        "\n",
        "sta_rafo = Pipeline([(\"scaler\",StandardScaler()),(\"model\",RandomForestRegressor(n_jobs=-1, random_state=1))])\n",
        "\n",
        "x, y = df_train.iloc[:, 2:6], df_train.iloc[:, -1]\n",
        "\n",
        "result_train = []\n",
        "result_predict = []\n",
        "result_rmse = []\n",
        "result_mae = []\n",
        "result_r2 = []\n",
        "\n",
        "# result_loss\n",
        "\n",
        "for i, ii in splitter.split(x, y):\n",
        "\n",
        "    train_x, train_y = x.iloc[i], y.iloc[i]\n",
        "    test_x, test_y = x.iloc[ii], y.iloc[ii]\n",
        "\n",
        "    reg = sta_rafo.fit(train_x, train_y)\n",
        "\n",
        "    result_train.append(reg.score(train_x, train_y))\n",
        "    result_predict.append(reg.score(test_x, test_y))\n",
        "\n",
        "    print('train score : ', reg.score(train_x, train_y))\n",
        "    print('test score : ',  reg.score(test_x, test_y))\n",
        "\n",
        "    pred_ranfo = sta_rafo.predict(test_x)\n",
        "    rmse = mean_squared_error(test_y, pred_ranfo)**0.5\n",
        "    print(\"RMSE :\", rmse)\n",
        "    result_rmse.append(rmse)\n",
        "\n",
        "\n",
        "    mae = mean_absolute_error(test_y, pred_ranfo)\n",
        "    print(\"MAE :\", mae)\n",
        "    result_mae.append(mae)\n",
        "\n",
        "\n",
        "    x_data = np.array(test_y)\n",
        "    y_data = np.array(pred_ranfo)\n",
        "\n",
        "    r2 = r2_score(x_data, y_data)\n",
        "    print(\"r2_score :\", r2)\n",
        "    result_r2.append(r2)\n",
        "\n",
        "    print(\"\\n\")\n",
        "\n",
        "\n",
        "\n",
        "print(\"학습률 평균 : \",np.array(result_train).mean())\n",
        "print(\"예측률 평균 : \",np.array(result_predict).mean())\n",
        "print(\"RMSE 평균 : \",np.array(result_rmse).mean())\n",
        "print(\"MAE 평균 : \",np.array(result_mae).mean())\n",
        "print(\"R2_SCORE 평균 : \",np.array(result_r2).mean())\n"
      ],
      "metadata": {
        "colab": {
          "base_uri": "https://localhost:8080/"
        },
        "id": "2vrTK25C1Nj-",
        "outputId": "78c95226-122d-4dbe-9452-c9a25fde53bd"
      },
      "execution_count": 366,
      "outputs": [
        {
          "output_type": "stream",
          "name": "stdout",
          "text": [
            "train score :  0.9381862708565273\n",
            "test score :  0.9319812717323103\n",
            "RMSE : 326074.3719516668\n",
            "MAE : 147194.45442132765\n",
            "r2_score : 0.9319812717323103\n",
            "\n",
            "\n",
            "train score :  0.9408837301233118\n",
            "test score :  0.9183818808412176\n",
            "RMSE : 349648.9151147674\n",
            "MAE : 161141.19953571536\n",
            "r2_score : 0.9183818808412176\n",
            "\n",
            "\n",
            "train score :  0.9389320149187593\n",
            "test score :  0.9289624539253082\n",
            "RMSE : 344497.1727329404\n",
            "MAE : 152966.72677604805\n",
            "r2_score : 0.9289624539253082\n",
            "\n",
            "\n",
            "train score :  0.9400049899865819\n",
            "test score :  0.9202006567749856\n",
            "RMSE : 355198.68915573054\n",
            "MAE : 157217.3921428893\n",
            "r2_score : 0.9202006567749856\n",
            "\n",
            "\n",
            "train score :  0.9412797058615175\n",
            "test score :  0.9152399887738112\n",
            "RMSE : 360345.4517054405\n",
            "MAE : 155567.42367226107\n",
            "r2_score : 0.9152399887738112\n",
            "\n",
            "\n",
            "학습률 평균 :  0.9398573423493396\n",
            "예측률 평균 :  0.9229532504095266\n",
            "RMSE 평균 :  347152.9201321091\n",
            "MAE 평균 :  154817.4393096483\n",
            "R2_SCORE 평균 :  0.9229532504095266\n"
          ]
        }
      ]
    },
    {
      "cell_type": "code",
      "source": [
        "rcs_x = df_test.iloc[:,2:6]"
      ],
      "metadata": {
        "id": "DP2qb-uOKfDg"
      },
      "execution_count": 367,
      "outputs": []
    },
    {
      "cell_type": "code",
      "source": [
        "pred = sta_rafo.predict(rcs_x)"
      ],
      "metadata": {
        "id": "Q3BqpqypLvAC"
      },
      "execution_count": 368,
      "outputs": []
    },
    {
      "cell_type": "code",
      "source": [
        "df_submission.value = pred\n",
        "df_submission"
      ],
      "metadata": {
        "colab": {
          "base_uri": "https://localhost:8080/",
          "height": 424
        },
        "id": "rnOx0POpKCtC",
        "outputId": "62f47dc6-df20-442a-cddd-00866f9b24d9"
      },
      "execution_count": 369,
      "outputs": [
        {
          "output_type": "execute_result",
          "data": {
            "text/plain": [
              "         id         value\n",
              "0         1  4.491781e+06\n",
              "1         2  4.491781e+06\n",
              "2         4  4.491781e+06\n",
              "3         5  4.491781e+06\n",
              "4         6  4.491781e+06\n",
              "...     ...           ...\n",
              "3823  16924  5.940000e+04\n",
              "3824  16929  5.240000e+04\n",
              "3825  16932  5.586333e+04\n",
              "3826  16937  4.965000e+04\n",
              "3827  16943  4.965000e+04\n",
              "\n",
              "[3828 rows x 2 columns]"
            ],
            "text/html": [
              "\n",
              "  <div id=\"df-04f6bdae-3a8b-4a97-ab17-6e64bc7f9ee5\">\n",
              "    <div class=\"colab-df-container\">\n",
              "      <div>\n",
              "<style scoped>\n",
              "    .dataframe tbody tr th:only-of-type {\n",
              "        vertical-align: middle;\n",
              "    }\n",
              "\n",
              "    .dataframe tbody tr th {\n",
              "        vertical-align: top;\n",
              "    }\n",
              "\n",
              "    .dataframe thead th {\n",
              "        text-align: right;\n",
              "    }\n",
              "</style>\n",
              "<table border=\"1\" class=\"dataframe\">\n",
              "  <thead>\n",
              "    <tr style=\"text-align: right;\">\n",
              "      <th></th>\n",
              "      <th>id</th>\n",
              "      <th>value</th>\n",
              "    </tr>\n",
              "  </thead>\n",
              "  <tbody>\n",
              "    <tr>\n",
              "      <th>0</th>\n",
              "      <td>1</td>\n",
              "      <td>4.491781e+06</td>\n",
              "    </tr>\n",
              "    <tr>\n",
              "      <th>1</th>\n",
              "      <td>2</td>\n",
              "      <td>4.491781e+06</td>\n",
              "    </tr>\n",
              "    <tr>\n",
              "      <th>2</th>\n",
              "      <td>4</td>\n",
              "      <td>4.491781e+06</td>\n",
              "    </tr>\n",
              "    <tr>\n",
              "      <th>3</th>\n",
              "      <td>5</td>\n",
              "      <td>4.491781e+06</td>\n",
              "    </tr>\n",
              "    <tr>\n",
              "      <th>4</th>\n",
              "      <td>6</td>\n",
              "      <td>4.491781e+06</td>\n",
              "    </tr>\n",
              "    <tr>\n",
              "      <th>...</th>\n",
              "      <td>...</td>\n",
              "      <td>...</td>\n",
              "    </tr>\n",
              "    <tr>\n",
              "      <th>3823</th>\n",
              "      <td>16924</td>\n",
              "      <td>5.940000e+04</td>\n",
              "    </tr>\n",
              "    <tr>\n",
              "      <th>3824</th>\n",
              "      <td>16929</td>\n",
              "      <td>5.240000e+04</td>\n",
              "    </tr>\n",
              "    <tr>\n",
              "      <th>3825</th>\n",
              "      <td>16932</td>\n",
              "      <td>5.586333e+04</td>\n",
              "    </tr>\n",
              "    <tr>\n",
              "      <th>3826</th>\n",
              "      <td>16937</td>\n",
              "      <td>4.965000e+04</td>\n",
              "    </tr>\n",
              "    <tr>\n",
              "      <th>3827</th>\n",
              "      <td>16943</td>\n",
              "      <td>4.965000e+04</td>\n",
              "    </tr>\n",
              "  </tbody>\n",
              "</table>\n",
              "<p>3828 rows × 2 columns</p>\n",
              "</div>\n",
              "      <button class=\"colab-df-convert\" onclick=\"convertToInteractive('df-04f6bdae-3a8b-4a97-ab17-6e64bc7f9ee5')\"\n",
              "              title=\"Convert this dataframe to an interactive table.\"\n",
              "              style=\"display:none;\">\n",
              "        \n",
              "  <svg xmlns=\"http://www.w3.org/2000/svg\" height=\"24px\"viewBox=\"0 0 24 24\"\n",
              "       width=\"24px\">\n",
              "    <path d=\"M0 0h24v24H0V0z\" fill=\"none\"/>\n",
              "    <path d=\"M18.56 5.44l.94 2.06.94-2.06 2.06-.94-2.06-.94-.94-2.06-.94 2.06-2.06.94zm-11 1L8.5 8.5l.94-2.06 2.06-.94-2.06-.94L8.5 2.5l-.94 2.06-2.06.94zm10 10l.94 2.06.94-2.06 2.06-.94-2.06-.94-.94-2.06-.94 2.06-2.06.94z\"/><path d=\"M17.41 7.96l-1.37-1.37c-.4-.4-.92-.59-1.43-.59-.52 0-1.04.2-1.43.59L10.3 9.45l-7.72 7.72c-.78.78-.78 2.05 0 2.83L4 21.41c.39.39.9.59 1.41.59.51 0 1.02-.2 1.41-.59l7.78-7.78 2.81-2.81c.8-.78.8-2.07 0-2.86zM5.41 20L4 18.59l7.72-7.72 1.47 1.35L5.41 20z\"/>\n",
              "  </svg>\n",
              "      </button>\n",
              "      \n",
              "  <style>\n",
              "    .colab-df-container {\n",
              "      display:flex;\n",
              "      flex-wrap:wrap;\n",
              "      gap: 12px;\n",
              "    }\n",
              "\n",
              "    .colab-df-convert {\n",
              "      background-color: #E8F0FE;\n",
              "      border: none;\n",
              "      border-radius: 50%;\n",
              "      cursor: pointer;\n",
              "      display: none;\n",
              "      fill: #1967D2;\n",
              "      height: 32px;\n",
              "      padding: 0 0 0 0;\n",
              "      width: 32px;\n",
              "    }\n",
              "\n",
              "    .colab-df-convert:hover {\n",
              "      background-color: #E2EBFA;\n",
              "      box-shadow: 0px 1px 2px rgba(60, 64, 67, 0.3), 0px 1px 3px 1px rgba(60, 64, 67, 0.15);\n",
              "      fill: #174EA6;\n",
              "    }\n",
              "\n",
              "    [theme=dark] .colab-df-convert {\n",
              "      background-color: #3B4455;\n",
              "      fill: #D2E3FC;\n",
              "    }\n",
              "\n",
              "    [theme=dark] .colab-df-convert:hover {\n",
              "      background-color: #434B5C;\n",
              "      box-shadow: 0px 1px 3px 1px rgba(0, 0, 0, 0.15);\n",
              "      filter: drop-shadow(0px 1px 2px rgba(0, 0, 0, 0.3));\n",
              "      fill: #FFFFFF;\n",
              "    }\n",
              "  </style>\n",
              "\n",
              "      <script>\n",
              "        const buttonEl =\n",
              "          document.querySelector('#df-04f6bdae-3a8b-4a97-ab17-6e64bc7f9ee5 button.colab-df-convert');\n",
              "        buttonEl.style.display =\n",
              "          google.colab.kernel.accessAllowed ? 'block' : 'none';\n",
              "\n",
              "        async function convertToInteractive(key) {\n",
              "          const element = document.querySelector('#df-04f6bdae-3a8b-4a97-ab17-6e64bc7f9ee5');\n",
              "          const dataTable =\n",
              "            await google.colab.kernel.invokeFunction('convertToInteractive',\n",
              "                                                     [key], {});\n",
              "          if (!dataTable) return;\n",
              "\n",
              "          const docLinkHtml = 'Like what you see? Visit the ' +\n",
              "            '<a target=\"_blank\" href=https://colab.research.google.com/notebooks/data_table.ipynb>data table notebook</a>'\n",
              "            + ' to learn more about interactive tables.';\n",
              "          element.innerHTML = '';\n",
              "          dataTable['output_type'] = 'display_data';\n",
              "          await google.colab.output.renderOutput(dataTable, element);\n",
              "          const docLink = document.createElement('div');\n",
              "          docLink.innerHTML = docLinkHtml;\n",
              "          element.appendChild(docLink);\n",
              "        }\n",
              "      </script>\n",
              "    </div>\n",
              "  </div>\n",
              "  "
            ]
          },
          "metadata": {},
          "execution_count": 369
        }
      ]
    },
    {
      "cell_type": "markdown",
      "source": [
        "#4.성능 지표 확인"
      ],
      "metadata": {
        "id": "DvVlpYQnjocd"
      }
    },
    {
      "cell_type": "code",
      "source": [
        "  # pred_ranfo = sta_rafo.predict(x_test)\n",
        "  # rmse = mean_squared_error(y_test, pred_ranfo)**0.5\n",
        "  # print(\"RMSE :\", rmse)\n",
        "\n",
        "  # mae = mean_absolute_error(y_test, pred_ranfo)\n",
        "  # print(\"MAE :\", mae)\n",
        "\n",
        "  # r2_score = r2_score(y_test, pred_ranfo)\n",
        "  # print(\"r2_score :\", r2_score)"
      ],
      "metadata": {
        "id": "mAvEsn4LHBPt"
      },
      "execution_count": 370,
      "outputs": []
    },
    {
      "cell_type": "code",
      "source": [
        "# print(\"학습률 : \",sta_rafo.score(x_train, y_train))\n",
        "# print(\"예측률 : \",sta_rafo.score(x_test, y_test))"
      ],
      "metadata": {
        "id": "fYFcpkBVFvpJ"
      },
      "execution_count": 371,
      "outputs": []
    },
    {
      "cell_type": "markdown",
      "source": [
        "#5.저장"
      ],
      "metadata": {
        "id": "IMLJfEpqjofI"
      }
    },
    {
      "cell_type": "markdown",
      "source": [
        "##5.1 github에 저장"
      ],
      "metadata": {
        "id": "zuQaT19ojohf"
      }
    },
    {
      "cell_type": "markdown",
      "source": [
        "##5.2 파일로 저장"
      ],
      "metadata": {
        "id": "RnB18TgRjokH"
      }
    },
    {
      "cell_type": "code",
      "source": [
        "df_submission.to_csv('5번째 수정.csv', index=None)"
      ],
      "metadata": {
        "id": "1n3_-1po17UF"
      },
      "execution_count": 372,
      "outputs": []
    }
  ]
}
